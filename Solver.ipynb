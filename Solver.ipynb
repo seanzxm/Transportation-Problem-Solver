{
  "nbformat": 4,
  "nbformat_minor": 0,
  "metadata": {
    "colab": {
      "provenance": []
    },
    "kernelspec": {
      "name": "python3",
      "display_name": "Python 3"
    },
    "language_info": {
      "name": "python"
    }
  },
  "cells": [
    {
      "cell_type": "code",
      "source": [
        "'''\n",
        "Author: Sean Melone, John Sheptika\n",
        "CPE 608\n",
        "Project source code\n",
        "5/13/2024\n",
        "'''\n",
        "# run this cell to install necessary library\n",
        "!pip install pulp"
      ],
      "metadata": {
        "colab": {
          "base_uri": "https://localhost:8080/"
        },
        "id": "Hk2dLvH46Y1q",
        "outputId": "6a17456f-f2a5-4ae6-bd53-8acb7fd0a799"
      },
      "execution_count": null,
      "outputs": [
        {
          "output_type": "stream",
          "name": "stdout",
          "text": [
            "Requirement already satisfied: pulp in /usr/local/lib/python3.10/dist-packages (2.8.0)\n"
          ]
        }
      ]
    },
    {
      "cell_type": "code",
      "source": [
        "from pulp import LpProblem, LpVariable, LpStatus, LpMaximize, PULP_CBC_CMD"
      ],
      "metadata": {
        "id": "htbjcgQ7H7C-"
      },
      "execution_count": null,
      "outputs": []
    },
    {
      "cell_type": "code",
      "source": [
        "# demand calculation\n",
        "# demand is equal to region revenue divided by price per unit of the largest country in region\n",
        "demand_americas = int(50430000000 / 799)\n",
        "demand_eu = int(30400000000 / 1025.29)\n",
        "demand_cn = int(20820000000 / 829.4)\n",
        "demand_jp = int(7770000000 / 800.42)\n",
        "demand_greater_asia = int(10620000000 / 986.4)\n",
        "\n",
        "total_demand = demand_americas + demand_eu + demand_cn + demand_jp + demand_greater_asia\n",
        "# print(demand_americas, demand_eu, demand_cn, demand_jp, demand_greater_asia)\n",
        "# uncomment above to view demand values"
      ],
      "metadata": {
        "id": "eYpOX9w41ARG"
      },
      "execution_count": null,
      "outputs": []
    },
    {
      "cell_type": "code",
      "execution_count": null,
      "metadata": {
        "colab": {
          "base_uri": "https://localhost:8080/"
        },
        "id": "mITgNY2M6BaW",
        "outputId": "3c6329c9-e307-433e-be6e-de76bf1de287"
      },
      "outputs": [
        {
          "output_type": "stream",
          "name": "stdout",
          "text": [
            "Solution Status: Optimal\n",
            "Americas : 12623279 units\n",
            "China : 14190096 units\n",
            "Europe : 29650147 units\n",
            "Greater_Asia_Pacific : 10766423 units\n",
            "Japan : 1941480 units\n"
          ]
        }
      ],
      "source": [
        "# I later found that we could effectively model this as a IPP using PuLP\n",
        "objective_func = LpProblem(\"Maximize_revenue\", LpMaximize)\n",
        "\n",
        "# decision vars\n",
        "X1 = LpVariable('Americas', lowBound = demand_americas * 0.2, upBound = demand_americas)\n",
        "X2 = LpVariable('Europe', lowBound = demand_eu * 0.2, upBound = demand_eu)\n",
        "X3 = LpVariable('China', lowBound = demand_cn * 0.2, upBound = demand_cn)\n",
        "X4 = LpVariable('Japan', lowBound = demand_jp * 0.2, upBound = demand_jp)\n",
        "X5 = LpVariable('Greater_Asia_Pacific', lowBound = demand_greater_asia * 0.2, upBound = demand_greater_asia)\n",
        "\n",
        "# objective function\n",
        "objective_func += 799 * X1 + 1025.29 * X2 + 829.4 * X3 + 800.42 * X4 + 986.4 * X5\n",
        "\n",
        "# supply constraint\n",
        "objective_func += X1 + X2 + X3 + X4 + X5 <= total_demand * 0.5, \"Supply\"\n",
        "\n",
        "# solve\n",
        "objective_func.solve(PULP_CBC_CMD())\n",
        "\n",
        "# lp status is a dictionary mapping the value of .status to a much more readable string format\n",
        "status = LpStatus[objective_func.status]\n",
        "print(\"Solution Status:\", status)\n",
        "\n",
        "# print solution\n",
        "for variable in objective_func.variables():\n",
        "      print(variable.name, \":\", int(variable.varValue), \"units\")"
      ]
    }
  ]
}